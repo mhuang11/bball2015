{
 "cells": [
  {
   "cell_type": "markdown",
   "id": "cbf1d419-d142-4576-8f44-b8eef6a7ccb3",
   "metadata": {},
   "source": [
    "# 2015 MLB Baseball Sample Questions"
   ]
  },
  {
   "cell_type": "markdown",
   "id": "bef69795-a3f2-4b4b-8777-3dad145483fe",
   "metadata": {},
   "source": [
    "### Questions"
   ]
  },
  {
   "cell_type": "markdown",
   "id": "c88159d3-3e10-4ff2-bc7b-7765201faabf",
   "metadata": {},
   "source": [
    "1) Modify **GetCounts** and **ToProbs** to create the new HMM. How many nodes are there?\n",
    "\n",
    "2) Find the *rarest transition event*. Determine the date, game, and inning it came from. Take a screenshot of this event from the Baseball Reference Website.\n",
    "\n",
    "3) What is the rarest inning?\n",
    "\n",
    "4) What percentage of runs(R) were scored when the team had 2 outs?\n",
    "\n",
    "5) Come up with one interesting question that your group will ask of the HMM. Answer that question.\n"
   ]
  },
  {
   "cell_type": "markdown",
   "id": "9548b24c-5244-42b7-ac07-e32cc50dbc04",
   "metadata": {},
   "source": [
    "## Some code blocks take a couple of minutes to run because of how many files it has to go through.\n",
    "**The 'bb2015' directory should be in the current working directory.**"
   ]
  },
  {
   "cell_type": "code",
   "execution_count": 2,
   "id": "6fe8b87e-8413-4b4a-905e-acdf895dca66",
   "metadata": {},
   "outputs": [],
   "source": [
    "import baseball\n",
    "import os"
   ]
  },
  {
   "cell_type": "markdown",
   "id": "a038df76-021e-4631-9d48-089475eedc87",
   "metadata": {},
   "source": [
    "### Reading In Files:"
   ]
  },
  {
   "cell_type": "code",
   "execution_count": 64,
   "id": "42d19119-12fe-4849-81e7-1069c83e0a7f",
   "metadata": {},
   "outputs": [],
   "source": [
    "#Use new GetOutsBases()\n",
    "\n",
    "import os\n",
    "import copy\n",
    "from lxml import html, etree\n",
    "import requests\n",
    "import math\n",
    "import numpy as np\n",
    "import urllib\n",
    "\n",
    "def GetOutsBasesOR(fname):\n",
    "    with open(fname) as f:\n",
    "        page = f.read()\n",
    "    page = page.replace('<!--', '')\n",
    "    page = page.replace('-->','')\n",
    "    page = page.replace('data-stat=\"runs_outs_result\" ></td>', 'data-stat = \"runs_outs_result\" >z</td>')\n",
    "    tree = html.fromstring(page)\n",
    "    outs = tree.xpath('//td[@data-stat=\"outs\"]/text()')\n",
    "    onbase = tree.xpath('//td[@data-stat = \"runners_on_bases_pbp\"]/text()')\n",
    "    rodata = tree.xpath('//td[@data-stat= \"runs_outs_result\"]/text()')\n",
    "    #remove the top 5 plays\n",
    "    outs = outs[5:]\n",
    "    onbase = onbase[5:]\n",
    "    ro = rodata[5:]\n",
    "    return outs, onbase, ro\n",
    "\n",
    "# Modified ToInnings()\n",
    "\n",
    "def ToInningsOR(outs,onbase, ro):\n",
    "    innings = []\n",
    "    N = len(outs)\n",
    "    st = [outs[0] + onbase[0] + ro[0]]\n",
    "    for i in range(1,N):\n",
    "        if outs[i]=='0' and outs[i-1]!='0':\n",
    "            st.append('3---')\n",
    "            innings.append( st )\n",
    "            st = ['0---']     \n",
    "        else:\n",
    "            if ro[i] != 'z':\n",
    "                tostring = outs[i] + onbase[i] + ro[i]\n",
    "                st.append(tostring)\n",
    "            else:\n",
    "                tostring = outs[i] + onbase[i]\n",
    "                st.append(tostring)\n",
    "    # last atbats\n",
    "    st.append('3---')\n",
    "    innings.append(st)\n",
    "    return innings\n",
    "\n",
    "#Modify GetCounts()\n",
    "\n",
    "def GetCountsOR(mydir):\n",
    "    games = baseball.GetGames(mydir)\n",
    "    dct = {}\n",
    "    for i in range(len(games)):\n",
    "        outs, onbase, ro = GetOutsBasesOR(games[i])\n",
    "        innings = ToInningsOR(outs, onbase, ro)\n",
    "        #print(games[i],len(outs))\n",
    "        #print('.', end='')\n",
    "        baseball.EventCounts(innings,dct)\n",
    "    return dct"
   ]
  },
  {
   "cell_type": "code",
   "execution_count": 65,
   "id": "d161537c-8927-4e91-8c7b-1735f7f04b75",
   "metadata": {},
   "outputs": [],
   "source": [
    "mydir = 'bb2015'\n",
    "dct = GetCountsOR(mydir)"
   ]
  },
  {
   "cell_type": "markdown",
   "id": "bc0bca64-7b89-480f-b596-843728e98aaa",
   "metadata": {},
   "source": [
    "### Question 1: How many nodes are there?"
   ]
  },
  {
   "cell_type": "code",
   "execution_count": 66,
   "id": "481dd5ba-2716-4081-ac63-de7b808effef",
   "metadata": {},
   "outputs": [
    {
     "name": "stdout",
     "output_type": "stream",
     "text": [
      "There are 158 nodes.\n"
     ]
    }
   ],
   "source": [
    "nodes = len(dct)\n",
    "print('There are', nodes ,'nodes.')"
   ]
  },
  {
   "cell_type": "markdown",
   "id": "77a587dd-5f70-4972-8ace-657878c915df",
   "metadata": {},
   "source": [
    "### Question 2: Find the *rarest transition event*."
   ]
  },
  {
   "cell_type": "code",
   "execution_count": 20,
   "id": "cc8768a2-307a-4ab1-bcff-71b63ddfae2f",
   "metadata": {},
   "outputs": [],
   "source": [
    "# Rarest Transition Event\n",
    "\n",
    "# Determines the rarest transition event\n",
    "def RarestTransition(probs, preProb):\n",
    "    rProb = 1.0\n",
    "    rTransition = []\n",
    "    for fKey in probs.keys():\n",
    "        for sKey in probs[fKey].keys():\n",
    "            if probs[fKey][sKey] < rProb and probs[fKey][sKey] > preProb:\n",
    "                rProb = probs[fKey][sKey]\n",
    "                rTransition = [fKey, sKey]\n",
    "    return rProb, rTransition\n",
    "\n",
    "# Searches all games to find occurrences of a transition event\n",
    "def RTGame(rTransition, datadir):\n",
    "    games = baseball.GetGames(datadir)\n",
    "    rtgames = []\n",
    "    for g in range(len(games)):\n",
    "        outs, onbase, ro = GetOutsBasesOR(games[g])\n",
    "        innings = ToInningsOR(outs, onbase, ro)\n",
    "        for i in range(len(innings)):  # loops through each inning\n",
    "            for x in range(len(innings[i])-1):  # loops through each event in an inning\n",
    "                if innings[i][x]==rTransition[0] and innings[i][x+1]==rTransition[1]:\n",
    "                    rtgames.append((games[g], innings[i]))\n",
    "    return rtgames\n"
   ]
  },
  {
   "cell_type": "code",
   "execution_count": 29,
   "id": "60aa28ae-605e-4da5-b621-cde4bbd26356",
   "metadata": {},
   "outputs": [
    {
     "data": {
      "text/plain": [
       "['0---', '0--3RR']"
      ]
     },
     "execution_count": 29,
     "metadata": {},
     "output_type": "execute_result"
    }
   ],
   "source": [
    "probs = baseball.ToProbs(dct)\n",
    "rProb, rTransition = RarestTransition(probs, 0)\n",
    "rtgames = []\n",
    "while len(rtgames) == 0:\n",
    "    rtgames = RTGame(rTransition, datadir = os.getcwd() + '\\\\bb2015')\n",
    "    if len(rtgames) == 0:\n",
    "        rProb, rTransition = RarestTransition(probs, rProb)\n",
    "    #print(\"attempted\")\n",
    "#print(\"done\")\n",
    "#print(rtgames)\n",
    "rTransition"
   ]
  },
  {
   "cell_type": "code",
   "execution_count": 68,
   "id": "dbd541e5-13f9-43d3-9bdf-978ad4df45c6",
   "metadata": {},
   "outputs": [
    {
     "data": {
      "text/plain": [
       "['0---', '0--3RR']"
      ]
     },
     "execution_count": 68,
     "metadata": {},
     "output_type": "execute_result"
    }
   ],
   "source": [
    "#Most common transition\n",
    "\n",
    "rProb, rTransition = RarestTransition(probs, 0)\n",
    "rTransition"
   ]
  },
  {
   "cell_type": "markdown",
   "id": "0c69db3b-734e-443e-a514-9b254028a978",
   "metadata": {},
   "source": [
    "### Question 3: Find the rarest inning."
   ]
  },
  {
   "cell_type": "code",
   "execution_count": 61,
   "id": "8a3c047b-6ab4-4afb-a180-256a98cbb14c",
   "metadata": {},
   "outputs": [
    {
     "data": {
      "text/plain": [
       "[(-4.136415776142788, 21, 'bb2015/BAL201507270.shtml'),\n",
       " (-4.136415776142788, 19, 'bb2015/TOR201504180.shtml'),\n",
       " (-4.136415776142788, 21, 'bb2015/BAL201509020.shtml'),\n",
       " (-4.136415776142788, 19, 'bb2015/ATL201508160.shtml'),\n",
       " (-4.136415776142788, 21, 'bb2015/CHA201507080.shtml'),\n",
       " (-4.136415776142788, 21, 'bb2015/MIN201504170.shtml'),\n",
       " (-4.136415776142788, 15, 'bb2015/KCA201506040.shtml'),\n",
       " (-4.136415776142788, 21, 'bb2015/CHA201506210.shtml'),\n",
       " (-4.136415776142788, 21, 'bb2015/DET201509190.shtml'),\n",
       " (-4.136415776142788, 17, 'bb2015/BAL201508190.shtml'),\n",
       " (-4.136415776142788, 17, 'bb2015/TEX201506160.shtml'),\n",
       " (-4.136415776142788, 17, 'bb2015/ANA201509260.shtml'),\n",
       " (-4.136415776142788, 21, 'bb2015/DET201505210.shtml'),\n",
       " (-4.136415776142788, 17, 'bb2015/ANA201505050.shtml'),\n",
       " (-4.136415776142788, 21, 'bb2015/CHN201509280.shtml'),\n",
       " (-4.136415776142788, 21, 'bb2015/SEA201505080.shtml')]"
      ]
     },
     "execution_count": 61,
     "metadata": {},
     "output_type": "execute_result"
    }
   ],
   "source": [
    "probs = baseball.ToProbs(dct)\n",
    "\n",
    "games = baseball.GetGames(mydir)\n",
    "\n",
    "def RareInningsOR(games, logodds):\n",
    "    data = []\n",
    "    for game in games:\n",
    "        outs, onbase, ro = GetOutsBasesOR(game)\n",
    "        innings = ToInningsOR(outs,onbase, ro)\n",
    "        for i in range(len(innings)):\n",
    "            a = baseball.TrailLogOdds(innings[i],logodds)\n",
    "            data.append((a,i,game))\n",
    "    # sort\n",
    "    vec = np.array(list(map(lambda x:x[0],data)))\n",
    "    ag = vec.argsort()\n",
    "    answ = []\n",
    "    for i in ag:\n",
    "        answ.append(data[i])\n",
    "    return answ\n",
    "\n",
    "logodds = baseball.ToLogOdds(probs)\n",
    "answ = RareInningsOR(games, logodds)\n",
    "\n",
    "answ[0:16] #this is printing the tuples with the lowest HMM value. remove the brackets to get the entire list."
   ]
  },
  {
   "cell_type": "code",
   "execution_count": 63,
   "id": "22ea3cbd-d6f9-41f8-aee8-72161a13858c",
   "metadata": {},
   "outputs": [
    {
     "data": {
      "text/plain": [
       "['0---', '3---']"
      ]
     },
     "execution_count": 63,
     "metadata": {},
     "output_type": "execute_result"
    }
   ],
   "source": [
    "#To check the events where the lowest inning event occured:\n",
    "\n",
    "fname = os.getcwd() + '\\\\bb2015\\\\BAL201508190.shtml'\n",
    "outs, onbase, ro = GetOutsBasesOR(fname)\n",
    "innings = ToInningsOR(outs1403, onbase, ro)\n",
    "innings[17]"
   ]
  },
  {
   "cell_type": "markdown",
   "id": "17a759c3-ef5b-463e-81f2-366679120fa9",
   "metadata": {},
   "source": [
    "### Question 4: What percentage of runs (R) were scored when the team had 2 outs?"
   ]
  },
  {
   "cell_type": "code",
   "execution_count": 45,
   "id": "4030b72f-b20f-4fff-8ef2-c0dbebc3245a",
   "metadata": {},
   "outputs": [],
   "source": [
    "def CountRuns(datadir)\n",
    "   games = baseball.GetGames(datadir)\n",
    "   twoOutCount = 0\n",
    "   for g in range(len(games)):\n",
    "       outs, onbase, ro = GetOutsBasesOR(games[g])\n",
    "       innings = ToInningsOR(outs, onbase, ro)\n",
    "       for i in range(len(innings)): # loops through each inning\n",
    "           for x in range(len(innings[i])): # loops through each string in an inning\n",
    "                if innings[i][x][0] == '2':\n",
    "                    twoOutCount += innings[i][x].count('R')\n",
    "\n",
    "   return twoOutCount\n",
    "\n",
    "datadir = os.getcwd() + '\\\\bb2015'\n",
    "twoOutCount = CountRuns(datadir)"
   ]
  },
  {
   "cell_type": "code",
   "execution_count": 51,
   "id": "fc4bd298-34db-47aa-afb3-366426ed33ac",
   "metadata": {},
   "outputs": [
    {
     "data": {
      "text/plain": [
       "0.4040679756978075"
      ]
     },
     "execution_count": 51,
     "metadata": {},
     "output_type": "execute_result"
    }
   ],
   "source": [
    "Percentage = twoOutCount/11357\n",
    "Percentage"
   ]
  },
  {
   "cell_type": "markdown",
   "id": "0e5774d4-e671-4676-85e5-8e30446b49c8",
   "metadata": {},
   "source": [
    "### Question 5: How many times has a Grand Slam occurred in these games? (Grand Slam = When all bases are filled and the next batter scores a homerun)"
   ]
  },
  {
   "cell_type": "markdown",
   "id": "33051ce8-37bf-4a62-bd2a-ae507562dced",
   "metadata": {},
   "source": [
    "The results show the games and inning number when the grand slam occured (and are probably the most interesting to watch!)"
   ]
  },
  {
   "cell_type": "code",
   "execution_count": 55,
   "id": "1454e00c-71b4-44ea-b249-9f1c420ef459",
   "metadata": {},
   "outputs": [],
   "source": [
    "# Tweaked GetGames() function from baseball.py\n",
    "# Grandslam() is a function I made from scratch\n",
    "\n",
    "mydir = 'bb2015'\n",
    "\n",
    "def GetGames(mydir):\n",
    "    a = os.listdir(mydir)\n",
    "    games = []\n",
    "    for i in a:\n",
    "        if '.shtml' in i:\n",
    "            games.append(os.getcwd() + '\\\\' + mydir + '\\\\' + i)\n",
    "    return games\n",
    "\n",
    "games = GetGames(mydir)\n",
    "\n",
    "# Input list of games from GetGames()\n",
    "# The function will go through every event in every inning and check for when\n",
    "# '0123R' becomes an '0123RRRR' (it doesn't), '1123R' becomes an '1123RRRR', or '2123R' becomes an '2123RRRR'\n",
    "# AKA this is when a grandslam events/transition occurs\n",
    "# When a grandslam occurs, the key is the game and value is the inning number which the grandslam occured in\n",
    "\n",
    "def Grandslam(games):\n",
    "    gsdct = {}\n",
    "    for i in range(len(games)):\n",
    "        outs, onbase, ro = GetOutsBasesOR(games[i])\n",
    "        innings = ToInningsOR(outs, onbase, ro)\n",
    "        for j in range(len(innings)):\n",
    "            for k in range(len(innings[j])):\n",
    "                if innings[j][k] == '0123RRRR' or innings[j][k] == '1123RRRR' or innings[j][k] == '2123RRRR':\n",
    "                    gsdct[games[i][-18:]] = j\n",
    "    return gsdct       \n",
    "\n",
    "# Will take a couple of minutes to do this:\n",
    "gsdct = Grandslam(games) "
   ]
  },
  {
   "cell_type": "code",
   "execution_count": 57,
   "id": "3c48ed8d-981f-4f5b-afb2-6fa9959089ef",
   "metadata": {},
   "outputs": [
    {
     "name": "stdout",
     "output_type": "stream",
     "text": [
      "63\n"
     ]
    }
   ],
   "source": [
    "print(len(gsdct))\n",
    "#gsdct"
   ]
  },
  {
   "cell_type": "code",
   "execution_count": null,
   "id": "f7301182-f620-4511-9915-2b63b6bf2954",
   "metadata": {},
   "outputs": [],
   "source": []
  }
 ],
 "metadata": {
  "kernelspec": {
   "display_name": "Python 3 (ipykernel)",
   "language": "python",
   "name": "python3"
  },
  "language_info": {
   "codemirror_mode": {
    "name": "ipython",
    "version": 3
   },
   "file_extension": ".py",
   "mimetype": "text/x-python",
   "name": "python",
   "nbconvert_exporter": "python",
   "pygments_lexer": "ipython3",
   "version": "3.9.12"
  }
 },
 "nbformat": 4,
 "nbformat_minor": 5
}
